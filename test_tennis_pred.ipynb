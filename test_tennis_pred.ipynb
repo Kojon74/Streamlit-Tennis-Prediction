{
 "metadata": {
  "language_info": {
   "codemirror_mode": {
    "name": "ipython",
    "version": 3
   },
   "file_extension": ".py",
   "mimetype": "text/x-python",
   "name": "python",
   "nbconvert_exporter": "python",
   "pygments_lexer": "ipython3",
   "version": "3.8.6-final"
  },
  "orig_nbformat": 2,
  "kernelspec": {
   "name": "python37664bit06db640765c3459f8f0ec3f865c5e18f",
   "display_name": "Python 3.7.6 64-bit",
   "language": "python"
  }
 },
 "nbformat": 4,
 "nbformat_minor": 2,
 "cells": [
  {
   "source": [
    "# Test"
   ],
   "cell_type": "markdown",
   "metadata": {}
  },
  {
   "cell_type": "code",
   "execution_count": 1,
   "metadata": {},
   "outputs": [],
   "source": [
    "import csv\n",
    "import os\n",
    "import pandas as pd"
   ]
  },
  {
   "cell_type": "code",
   "execution_count": null,
   "metadata": {},
   "outputs": [],
   "source": [
    "# Reorganize data to:\n",
    "# [Player 1 ID, Player 1 Rank, Player 2 ID, Player 2 Rank]\n",
    "for data_csv in os.list_dir('clean_data')\n",
    "    df = pd.read_csv(data_csv)\n",
    "    df.drop(labels=[])\n",
    "    headers = set(df.columns.values)\n",
    "    df = df.dropna(subset=list(headers-set([])))\n",
    "    winners = df['winner_name']\n",
    "    losers = df['loser_name']\n",
    "    len_df = len(winners)\n"
   ]
  }
 ]
}